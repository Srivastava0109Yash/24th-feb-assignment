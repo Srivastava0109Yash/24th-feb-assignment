{
 "cells": [
  {
   "cell_type": "code",
   "execution_count": 1,
   "id": "4e53589b",
   "metadata": {},
   "outputs": [],
   "source": [
    "import pandas as pd"
   ]
  },
  {
   "cell_type": "markdown",
   "id": "cad1c8c1",
   "metadata": {},
   "source": [
    "### Q1. List any five functions of the pandas library with execution."
   ]
  },
  {
   "cell_type": "code",
   "execution_count": 2,
   "id": "9fea6739",
   "metadata": {},
   "outputs": [],
   "source": [
    "df=pd.read_csv(\"services.csv\")"
   ]
  },
  {
   "cell_type": "markdown",
   "id": "2c043c6d",
   "metadata": {},
   "source": [
    "1. __head() and tail()__: These functions are used to display the first few and last few rows of the DataFrame respectively."
   ]
  },
  {
   "cell_type": "code",
   "execution_count": 3,
   "id": "8e1ea262",
   "metadata": {},
   "outputs": [
    {
     "data": {
      "text/html": [
       "<div>\n",
       "<style scoped>\n",
       "    .dataframe tbody tr th:only-of-type {\n",
       "        vertical-align: middle;\n",
       "    }\n",
       "\n",
       "    .dataframe tbody tr th {\n",
       "        vertical-align: top;\n",
       "    }\n",
       "\n",
       "    .dataframe thead th {\n",
       "        text-align: right;\n",
       "    }\n",
       "</style>\n",
       "<table border=\"1\" class=\"dataframe\">\n",
       "  <thead>\n",
       "    <tr style=\"text-align: right;\">\n",
       "      <th></th>\n",
       "      <th>id</th>\n",
       "      <th>location_id</th>\n",
       "      <th>program_id</th>\n",
       "      <th>accepted_payments</th>\n",
       "      <th>alternate_name</th>\n",
       "      <th>application_process</th>\n",
       "      <th>audience</th>\n",
       "      <th>description</th>\n",
       "      <th>eligibility</th>\n",
       "      <th>email</th>\n",
       "      <th>...</th>\n",
       "      <th>interpretation_services</th>\n",
       "      <th>keywords</th>\n",
       "      <th>languages</th>\n",
       "      <th>name</th>\n",
       "      <th>required_documents</th>\n",
       "      <th>service_areas</th>\n",
       "      <th>status</th>\n",
       "      <th>wait_time</th>\n",
       "      <th>website</th>\n",
       "      <th>taxonomy_ids</th>\n",
       "    </tr>\n",
       "  </thead>\n",
       "  <tbody>\n",
       "    <tr>\n",
       "      <th>18</th>\n",
       "      <td>19</td>\n",
       "      <td>19</td>\n",
       "      <td>NaN</td>\n",
       "      <td>NaN</td>\n",
       "      <td>NaN</td>\n",
       "      <td>Call for screening appointment (650-347-3648).</td>\n",
       "      <td>NaN</td>\n",
       "      <td>Provides free medical and dental care to those...</td>\n",
       "      <td>Low-income person without access to health care</td>\n",
       "      <td>NaN</td>\n",
       "      <td>...</td>\n",
       "      <td>NaN</td>\n",
       "      <td>HEALTH SERVICES, Outpatient Care, Community Cl...</td>\n",
       "      <td>NaN</td>\n",
       "      <td>San Mateo Free Medical Clinic</td>\n",
       "      <td>NaN</td>\n",
       "      <td>Belmont, Burlingame</td>\n",
       "      <td>active</td>\n",
       "      <td>Varies.</td>\n",
       "      <td>NaN</td>\n",
       "      <td>NaN</td>\n",
       "    </tr>\n",
       "    <tr>\n",
       "      <th>19</th>\n",
       "      <td>20</td>\n",
       "      <td>20</td>\n",
       "      <td>NaN</td>\n",
       "      <td>NaN</td>\n",
       "      <td>NaN</td>\n",
       "      <td>Walk in.</td>\n",
       "      <td>NaN</td>\n",
       "      <td>no unrequired fields for this service</td>\n",
       "      <td>NaN</td>\n",
       "      <td>NaN</td>\n",
       "      <td>...</td>\n",
       "      <td>NaN</td>\n",
       "      <td>NaN</td>\n",
       "      <td>NaN</td>\n",
       "      <td>Service with blank fields</td>\n",
       "      <td>NaN</td>\n",
       "      <td>NaN</td>\n",
       "      <td>defunct</td>\n",
       "      <td>NaN</td>\n",
       "      <td>NaN</td>\n",
       "      <td>NaN</td>\n",
       "    </tr>\n",
       "    <tr>\n",
       "      <th>20</th>\n",
       "      <td>21</td>\n",
       "      <td>21</td>\n",
       "      <td>NaN</td>\n",
       "      <td>NaN</td>\n",
       "      <td>NaN</td>\n",
       "      <td>By phone during business hours.</td>\n",
       "      <td>NaN</td>\n",
       "      <td>just a test service</td>\n",
       "      <td>NaN</td>\n",
       "      <td>NaN</td>\n",
       "      <td>...</td>\n",
       "      <td>NaN</td>\n",
       "      <td>NaN</td>\n",
       "      <td>NaN</td>\n",
       "      <td>Service for Admin Test Location</td>\n",
       "      <td>NaN</td>\n",
       "      <td>San Mateo County</td>\n",
       "      <td>inactive</td>\n",
       "      <td>NaN</td>\n",
       "      <td>NaN</td>\n",
       "      <td>NaN</td>\n",
       "    </tr>\n",
       "    <tr>\n",
       "      <th>21</th>\n",
       "      <td>22</td>\n",
       "      <td>22</td>\n",
       "      <td>NaN</td>\n",
       "      <td>Cash, Check, Credit Card</td>\n",
       "      <td>Fotos para pasaportes</td>\n",
       "      <td>Walk in or apply by phone or mail</td>\n",
       "      <td>Profit and nonprofit businesses, the public, m...</td>\n",
       "      <td>[NOTE THIS IS NOT A REAL SERVICE--THIS IS FOR ...</td>\n",
       "      <td>None</td>\n",
       "      <td>passports@example.org</td>\n",
       "      <td>...</td>\n",
       "      <td>We offer 3-way interpretation services over th...</td>\n",
       "      <td>Salud, Medicina</td>\n",
       "      <td>Spanish</td>\n",
       "      <td>Passport Photos</td>\n",
       "      <td>Government-issued picture identification</td>\n",
       "      <td>Alameda County, San Mateo County</td>\n",
       "      <td>active</td>\n",
       "      <td>No wait to 2 weeks.</td>\n",
       "      <td>http://www.example.com</td>\n",
       "      <td>105, 108, 108-05, 108-05-01, 111, 111-05</td>\n",
       "    </tr>\n",
       "    <tr>\n",
       "      <th>22</th>\n",
       "      <td>23</td>\n",
       "      <td>22</td>\n",
       "      <td>NaN</td>\n",
       "      <td>NaN</td>\n",
       "      <td>NaN</td>\n",
       "      <td>Walk in or apply by phone or mail</td>\n",
       "      <td>Second service and nonprofit businesses, the p...</td>\n",
       "      <td>[NOTE THIS IS NOT A REAL ORGANIZATION--THIS IS...</td>\n",
       "      <td>None</td>\n",
       "      <td>NaN</td>\n",
       "      <td>...</td>\n",
       "      <td>NaN</td>\n",
       "      <td>Ruby on Rails/Postgres/Redis, testing, wic</td>\n",
       "      <td>NaN</td>\n",
       "      <td>Example Service Name</td>\n",
       "      <td>NaN</td>\n",
       "      <td>San Mateo County, Alameda County</td>\n",
       "      <td>active</td>\n",
       "      <td>No wait to 2 weeks</td>\n",
       "      <td>http://www.example.com</td>\n",
       "      <td>NaN</td>\n",
       "    </tr>\n",
       "  </tbody>\n",
       "</table>\n",
       "<p>5 rows × 22 columns</p>\n",
       "</div>"
      ],
      "text/plain": [
       "    id  location_id  program_id         accepted_payments  \\\n",
       "18  19           19         NaN                       NaN   \n",
       "19  20           20         NaN                       NaN   \n",
       "20  21           21         NaN                       NaN   \n",
       "21  22           22         NaN  Cash, Check, Credit Card   \n",
       "22  23           22         NaN                       NaN   \n",
       "\n",
       "           alternate_name                             application_process  \\\n",
       "18                    NaN  Call for screening appointment (650-347-3648).   \n",
       "19                    NaN                                        Walk in.   \n",
       "20                    NaN                 By phone during business hours.   \n",
       "21  Fotos para pasaportes               Walk in or apply by phone or mail   \n",
       "22                    NaN               Walk in or apply by phone or mail   \n",
       "\n",
       "                                             audience  \\\n",
       "18                                                NaN   \n",
       "19                                                NaN   \n",
       "20                                                NaN   \n",
       "21  Profit and nonprofit businesses, the public, m...   \n",
       "22  Second service and nonprofit businesses, the p...   \n",
       "\n",
       "                                          description  \\\n",
       "18  Provides free medical and dental care to those...   \n",
       "19              no unrequired fields for this service   \n",
       "20                                just a test service   \n",
       "21  [NOTE THIS IS NOT A REAL SERVICE--THIS IS FOR ...   \n",
       "22  [NOTE THIS IS NOT A REAL ORGANIZATION--THIS IS...   \n",
       "\n",
       "                                        eligibility                  email  \\\n",
       "18  Low-income person without access to health care                    NaN   \n",
       "19                                              NaN                    NaN   \n",
       "20                                              NaN                    NaN   \n",
       "21                                             None  passports@example.org   \n",
       "22                                             None                    NaN   \n",
       "\n",
       "    ...                            interpretation_services  \\\n",
       "18  ...                                                NaN   \n",
       "19  ...                                                NaN   \n",
       "20  ...                                                NaN   \n",
       "21  ...  We offer 3-way interpretation services over th...   \n",
       "22  ...                                                NaN   \n",
       "\n",
       "                                             keywords languages  \\\n",
       "18  HEALTH SERVICES, Outpatient Care, Community Cl...       NaN   \n",
       "19                                                NaN       NaN   \n",
       "20                                                NaN       NaN   \n",
       "21                                    Salud, Medicina   Spanish   \n",
       "22         Ruby on Rails/Postgres/Redis, testing, wic       NaN   \n",
       "\n",
       "                               name                        required_documents  \\\n",
       "18    San Mateo Free Medical Clinic                                       NaN   \n",
       "19        Service with blank fields                                       NaN   \n",
       "20  Service for Admin Test Location                                       NaN   \n",
       "21                  Passport Photos  Government-issued picture identification   \n",
       "22             Example Service Name                                       NaN   \n",
       "\n",
       "                       service_areas    status            wait_time  \\\n",
       "18               Belmont, Burlingame    active              Varies.   \n",
       "19                               NaN   defunct                  NaN   \n",
       "20                  San Mateo County  inactive                  NaN   \n",
       "21  Alameda County, San Mateo County    active  No wait to 2 weeks.   \n",
       "22  San Mateo County, Alameda County    active   No wait to 2 weeks   \n",
       "\n",
       "                   website                              taxonomy_ids  \n",
       "18                     NaN                                       NaN  \n",
       "19                     NaN                                       NaN  \n",
       "20                     NaN                                       NaN  \n",
       "21  http://www.example.com  105, 108, 108-05, 108-05-01, 111, 111-05  \n",
       "22  http://www.example.com                                       NaN  \n",
       "\n",
       "[5 rows x 22 columns]"
      ]
     },
     "execution_count": 3,
     "metadata": {},
     "output_type": "execute_result"
    }
   ],
   "source": [
    "df.tail()"
   ]
  },
  {
   "cell_type": "markdown",
   "id": "1d97ba0f",
   "metadata": {},
   "source": [
    "2. __describe()__: This function is used to display a summary of the statistical information of the DataFrame."
   ]
  },
  {
   "cell_type": "code",
   "execution_count": 4,
   "id": "dd962e97",
   "metadata": {},
   "outputs": [
    {
     "data": {
      "text/html": [
       "<div>\n",
       "<style scoped>\n",
       "    .dataframe tbody tr th:only-of-type {\n",
       "        vertical-align: middle;\n",
       "    }\n",
       "\n",
       "    .dataframe tbody tr th {\n",
       "        vertical-align: top;\n",
       "    }\n",
       "\n",
       "    .dataframe thead th {\n",
       "        text-align: right;\n",
       "    }\n",
       "</style>\n",
       "<table border=\"1\" class=\"dataframe\">\n",
       "  <thead>\n",
       "    <tr style=\"text-align: right;\">\n",
       "      <th></th>\n",
       "      <th>id</th>\n",
       "      <th>location_id</th>\n",
       "      <th>program_id</th>\n",
       "    </tr>\n",
       "  </thead>\n",
       "  <tbody>\n",
       "    <tr>\n",
       "      <th>count</th>\n",
       "      <td>23.00000</td>\n",
       "      <td>23.000000</td>\n",
       "      <td>0.0</td>\n",
       "    </tr>\n",
       "    <tr>\n",
       "      <th>mean</th>\n",
       "      <td>12.00000</td>\n",
       "      <td>11.956522</td>\n",
       "      <td>NaN</td>\n",
       "    </tr>\n",
       "    <tr>\n",
       "      <th>std</th>\n",
       "      <td>6.78233</td>\n",
       "      <td>6.711444</td>\n",
       "      <td>NaN</td>\n",
       "    </tr>\n",
       "    <tr>\n",
       "      <th>min</th>\n",
       "      <td>1.00000</td>\n",
       "      <td>1.000000</td>\n",
       "      <td>NaN</td>\n",
       "    </tr>\n",
       "    <tr>\n",
       "      <th>25%</th>\n",
       "      <td>6.50000</td>\n",
       "      <td>6.500000</td>\n",
       "      <td>NaN</td>\n",
       "    </tr>\n",
       "    <tr>\n",
       "      <th>50%</th>\n",
       "      <td>12.00000</td>\n",
       "      <td>12.000000</td>\n",
       "      <td>NaN</td>\n",
       "    </tr>\n",
       "    <tr>\n",
       "      <th>75%</th>\n",
       "      <td>17.50000</td>\n",
       "      <td>17.500000</td>\n",
       "      <td>NaN</td>\n",
       "    </tr>\n",
       "    <tr>\n",
       "      <th>max</th>\n",
       "      <td>23.00000</td>\n",
       "      <td>22.000000</td>\n",
       "      <td>NaN</td>\n",
       "    </tr>\n",
       "  </tbody>\n",
       "</table>\n",
       "</div>"
      ],
      "text/plain": [
       "             id  location_id  program_id\n",
       "count  23.00000    23.000000         0.0\n",
       "mean   12.00000    11.956522         NaN\n",
       "std     6.78233     6.711444         NaN\n",
       "min     1.00000     1.000000         NaN\n",
       "25%     6.50000     6.500000         NaN\n",
       "50%    12.00000    12.000000         NaN\n",
       "75%    17.50000    17.500000         NaN\n",
       "max    23.00000    22.000000         NaN"
      ]
     },
     "execution_count": 4,
     "metadata": {},
     "output_type": "execute_result"
    }
   ],
   "source": [
    "df.describe()"
   ]
  },
  {
   "cell_type": "markdown",
   "id": "2963519c",
   "metadata": {},
   "source": [
    "3. __info()__: This function is used to display a concise summary of the DataFrame, including the data types and memory usage."
   ]
  },
  {
   "cell_type": "code",
   "execution_count": 5,
   "id": "c7506b31",
   "metadata": {},
   "outputs": [
    {
     "name": "stdout",
     "output_type": "stream",
     "text": [
      "<class 'pandas.core.frame.DataFrame'>\n",
      "RangeIndex: 23 entries, 0 to 22\n",
      "Data columns (total 22 columns):\n",
      " #   Column                   Non-Null Count  Dtype  \n",
      "---  ------                   --------------  -----  \n",
      " 0   id                       23 non-null     int64  \n",
      " 1   location_id              23 non-null     int64  \n",
      " 2   program_id               0 non-null      float64\n",
      " 3   accepted_payments        1 non-null      object \n",
      " 4   alternate_name           1 non-null      object \n",
      " 5   application_process      23 non-null     object \n",
      " 6   audience                 14 non-null     object \n",
      " 7   description              23 non-null     object \n",
      " 8   eligibility              21 non-null     object \n",
      " 9   email                    1 non-null      object \n",
      " 10  fees                     21 non-null     object \n",
      " 11  funding_sources          21 non-null     object \n",
      " 12  interpretation_services  1 non-null      object \n",
      " 13  keywords                 21 non-null     object \n",
      " 14  languages                1 non-null      object \n",
      " 15  name                     23 non-null     object \n",
      " 16  required_documents       1 non-null      object \n",
      " 17  service_areas            21 non-null     object \n",
      " 18  status                   23 non-null     object \n",
      " 19  wait_time                19 non-null     object \n",
      " 20  website                  2 non-null      object \n",
      " 21  taxonomy_ids             1 non-null      object \n",
      "dtypes: float64(1), int64(2), object(19)\n",
      "memory usage: 4.1+ KB\n"
     ]
    }
   ],
   "source": [
    "df.info()"
   ]
  },
  {
   "cell_type": "markdown",
   "id": "e6b3d8f0",
   "metadata": {},
   "source": [
    "4. __loc[] and iloc[]__: These functions are used to select data from the DataFrame based on the index label or integer position respectively."
   ]
  },
  {
   "cell_type": "code",
   "execution_count": 6,
   "id": "85df866b",
   "metadata": {},
   "outputs": [
    {
     "data": {
      "text/plain": [
       "id                                                                         4\n",
       "location_id                                                                4\n",
       "program_id                                                               NaN\n",
       "accepted_payments                                                        NaN\n",
       "alternate_name                                                           NaN\n",
       "application_process                                          Apply by phone.\n",
       "audience                   Parents, children, families with problems of c...\n",
       "description                Provides supervised visitation services and a ...\n",
       "eligibility                                                             None\n",
       "email                                                                    NaN\n",
       "fees                       Vary according to income ($5-$90). Cash, check...\n",
       "funding_sources                                    County, Donations, Grants\n",
       "interpretation_services                                                  NaN\n",
       "keywords                   INDIVIDUAL AND FAMILY DEVELOPMENT SERVICES, Gr...\n",
       "languages                                                                NaN\n",
       "name                                                Family Visitation Center\n",
       "required_documents                                                       NaN\n",
       "service_areas                                               San Mateo County\n",
       "status                                                                active\n",
       "wait_time                                                           No wait.\n",
       "website                                                                  NaN\n",
       "taxonomy_ids                                                             NaN\n",
       "Name: 3, dtype: object"
      ]
     },
     "execution_count": 6,
     "metadata": {},
     "output_type": "execute_result"
    }
   ],
   "source": [
    "df.loc[3] # displays the row with index label 3"
   ]
  },
  {
   "cell_type": "code",
   "execution_count": 7,
   "id": "18b05ff5",
   "metadata": {},
   "outputs": [
    {
     "data": {
      "text/plain": [
       "id                                                                         4\n",
       "location_id                                                                4\n",
       "program_id                                                               NaN\n",
       "accepted_payments                                                        NaN\n",
       "alternate_name                                                           NaN\n",
       "application_process                                          Apply by phone.\n",
       "audience                   Parents, children, families with problems of c...\n",
       "description                Provides supervised visitation services and a ...\n",
       "eligibility                                                             None\n",
       "email                                                                    NaN\n",
       "fees                       Vary according to income ($5-$90). Cash, check...\n",
       "funding_sources                                    County, Donations, Grants\n",
       "interpretation_services                                                  NaN\n",
       "keywords                   INDIVIDUAL AND FAMILY DEVELOPMENT SERVICES, Gr...\n",
       "languages                                                                NaN\n",
       "name                                                Family Visitation Center\n",
       "required_documents                                                       NaN\n",
       "service_areas                                               San Mateo County\n",
       "status                                                                active\n",
       "wait_time                                                           No wait.\n",
       "website                                                                  NaN\n",
       "taxonomy_ids                                                             NaN\n",
       "Name: 3, dtype: object"
      ]
     },
     "execution_count": 7,
     "metadata": {},
     "output_type": "execute_result"
    }
   ],
   "source": [
    "df.iloc[3] # displays the row with integer position 3"
   ]
  },
  {
   "cell_type": "markdown",
   "id": "c3ee3e1d",
   "metadata": {},
   "source": [
    "5. __drop()__: This function is used to drop rows or columns from the DataFrame."
   ]
  },
  {
   "cell_type": "code",
   "execution_count": 8,
   "id": "c7cb6d6a",
   "metadata": {},
   "outputs": [],
   "source": [
    "df = df.drop(['program_id'], axis=1) # drop columns"
   ]
  },
  {
   "cell_type": "code",
   "execution_count": 9,
   "id": "10dd09ed",
   "metadata": {},
   "outputs": [
    {
     "data": {
      "text/html": [
       "<div>\n",
       "<style scoped>\n",
       "    .dataframe tbody tr th:only-of-type {\n",
       "        vertical-align: middle;\n",
       "    }\n",
       "\n",
       "    .dataframe tbody tr th {\n",
       "        vertical-align: top;\n",
       "    }\n",
       "\n",
       "    .dataframe thead th {\n",
       "        text-align: right;\n",
       "    }\n",
       "</style>\n",
       "<table border=\"1\" class=\"dataframe\">\n",
       "  <thead>\n",
       "    <tr style=\"text-align: right;\">\n",
       "      <th></th>\n",
       "      <th>id</th>\n",
       "      <th>location_id</th>\n",
       "      <th>accepted_payments</th>\n",
       "      <th>alternate_name</th>\n",
       "      <th>application_process</th>\n",
       "      <th>audience</th>\n",
       "      <th>description</th>\n",
       "      <th>eligibility</th>\n",
       "      <th>email</th>\n",
       "      <th>fees</th>\n",
       "      <th>...</th>\n",
       "      <th>interpretation_services</th>\n",
       "      <th>keywords</th>\n",
       "      <th>languages</th>\n",
       "      <th>name</th>\n",
       "      <th>required_documents</th>\n",
       "      <th>service_areas</th>\n",
       "      <th>status</th>\n",
       "      <th>wait_time</th>\n",
       "      <th>website</th>\n",
       "      <th>taxonomy_ids</th>\n",
       "    </tr>\n",
       "  </thead>\n",
       "  <tbody>\n",
       "    <tr>\n",
       "      <th>0</th>\n",
       "      <td>1</td>\n",
       "      <td>1</td>\n",
       "      <td>NaN</td>\n",
       "      <td>NaN</td>\n",
       "      <td>Walk in or apply by phone.</td>\n",
       "      <td>Older adults age 55 or over, ethnic minorities...</td>\n",
       "      <td>A walk-in center for older adults that provide...</td>\n",
       "      <td>Age 55 or over for most programs, age 60 or ov...</td>\n",
       "      <td>NaN</td>\n",
       "      <td>$2.50 suggested donation for lunch for age 60 ...</td>\n",
       "      <td>...</td>\n",
       "      <td>NaN</td>\n",
       "      <td>ADULT PROTECTION AND CARE SERVICES, Meal Sites...</td>\n",
       "      <td>NaN</td>\n",
       "      <td>Fair Oaks Adult Activity Center</td>\n",
       "      <td>NaN</td>\n",
       "      <td>Colma</td>\n",
       "      <td>active</td>\n",
       "      <td>No wait.</td>\n",
       "      <td>NaN</td>\n",
       "      <td>NaN</td>\n",
       "    </tr>\n",
       "    <tr>\n",
       "      <th>1</th>\n",
       "      <td>2</td>\n",
       "      <td>2</td>\n",
       "      <td>NaN</td>\n",
       "      <td>NaN</td>\n",
       "      <td>Apply by phone for an appointment.</td>\n",
       "      <td>Residents of San Mateo County age 55 or over</td>\n",
       "      <td>Provides training and job placement to eligibl...</td>\n",
       "      <td>Age 55 or over, county resident and willing an...</td>\n",
       "      <td>NaN</td>\n",
       "      <td>None. Donations requested of clients who can a...</td>\n",
       "      <td>...</td>\n",
       "      <td>NaN</td>\n",
       "      <td>EMPLOYMENT/TRAINING SERVICES, Job Development,...</td>\n",
       "      <td>NaN</td>\n",
       "      <td>Second Career Employment Program</td>\n",
       "      <td>NaN</td>\n",
       "      <td>San Mateo County</td>\n",
       "      <td>active</td>\n",
       "      <td>Varies.</td>\n",
       "      <td>NaN</td>\n",
       "      <td>NaN</td>\n",
       "    </tr>\n",
       "    <tr>\n",
       "      <th>2</th>\n",
       "      <td>3</td>\n",
       "      <td>3</td>\n",
       "      <td>NaN</td>\n",
       "      <td>NaN</td>\n",
       "      <td>Phone for information (403-4300 Ext. 4322).</td>\n",
       "      <td>Older adults age 55 or over who can benefit fr...</td>\n",
       "      <td>Offers supportive counseling services to San M...</td>\n",
       "      <td>Resident of San Mateo County age 55 or over</td>\n",
       "      <td>NaN</td>\n",
       "      <td>None.</td>\n",
       "      <td>...</td>\n",
       "      <td>NaN</td>\n",
       "      <td>Geriatric Counseling, Older Adults, Gay, Lesbi...</td>\n",
       "      <td>NaN</td>\n",
       "      <td>Senior Peer Counseling</td>\n",
       "      <td>NaN</td>\n",
       "      <td>San Mateo County</td>\n",
       "      <td>active</td>\n",
       "      <td>Varies.</td>\n",
       "      <td>NaN</td>\n",
       "      <td>NaN</td>\n",
       "    </tr>\n",
       "    <tr>\n",
       "      <th>3</th>\n",
       "      <td>4</td>\n",
       "      <td>4</td>\n",
       "      <td>NaN</td>\n",
       "      <td>NaN</td>\n",
       "      <td>Apply by phone.</td>\n",
       "      <td>Parents, children, families with problems of c...</td>\n",
       "      <td>Provides supervised visitation services and a ...</td>\n",
       "      <td>None</td>\n",
       "      <td>NaN</td>\n",
       "      <td>Vary according to income ($5-$90). Cash, check...</td>\n",
       "      <td>...</td>\n",
       "      <td>NaN</td>\n",
       "      <td>INDIVIDUAL AND FAMILY DEVELOPMENT SERVICES, Gr...</td>\n",
       "      <td>NaN</td>\n",
       "      <td>Family Visitation Center</td>\n",
       "      <td>NaN</td>\n",
       "      <td>San Mateo County</td>\n",
       "      <td>active</td>\n",
       "      <td>No wait.</td>\n",
       "      <td>NaN</td>\n",
       "      <td>NaN</td>\n",
       "    </tr>\n",
       "    <tr>\n",
       "      <th>4</th>\n",
       "      <td>5</td>\n",
       "      <td>5</td>\n",
       "      <td>NaN</td>\n",
       "      <td>NaN</td>\n",
       "      <td>Phone for information.</td>\n",
       "      <td>Low-income working families with children tran...</td>\n",
       "      <td>Provides fixed 8% short term loans to eligible...</td>\n",
       "      <td>Eligibility: Low-income family with legal cust...</td>\n",
       "      <td>NaN</td>\n",
       "      <td>$60 application fee. Cash or checks accepted.</td>\n",
       "      <td>...</td>\n",
       "      <td>NaN</td>\n",
       "      <td>COMMUNITY SERVICES, Speakers, Automobile Loans</td>\n",
       "      <td>NaN</td>\n",
       "      <td>Economic Self-Sufficiency Program</td>\n",
       "      <td>NaN</td>\n",
       "      <td>San Mateo County</td>\n",
       "      <td>active</td>\n",
       "      <td>NaN</td>\n",
       "      <td>NaN</td>\n",
       "      <td>NaN</td>\n",
       "    </tr>\n",
       "  </tbody>\n",
       "</table>\n",
       "<p>5 rows × 21 columns</p>\n",
       "</div>"
      ],
      "text/plain": [
       "   id  location_id accepted_payments alternate_name  \\\n",
       "0   1            1               NaN            NaN   \n",
       "1   2            2               NaN            NaN   \n",
       "2   3            3               NaN            NaN   \n",
       "3   4            4               NaN            NaN   \n",
       "4   5            5               NaN            NaN   \n",
       "\n",
       "                           application_process  \\\n",
       "0                   Walk in or apply by phone.   \n",
       "1           Apply by phone for an appointment.   \n",
       "2  Phone for information (403-4300 Ext. 4322).   \n",
       "3                              Apply by phone.   \n",
       "4                       Phone for information.   \n",
       "\n",
       "                                            audience  \\\n",
       "0  Older adults age 55 or over, ethnic minorities...   \n",
       "1       Residents of San Mateo County age 55 or over   \n",
       "2  Older adults age 55 or over who can benefit fr...   \n",
       "3  Parents, children, families with problems of c...   \n",
       "4  Low-income working families with children tran...   \n",
       "\n",
       "                                         description  \\\n",
       "0  A walk-in center for older adults that provide...   \n",
       "1  Provides training and job placement to eligibl...   \n",
       "2  Offers supportive counseling services to San M...   \n",
       "3  Provides supervised visitation services and a ...   \n",
       "4  Provides fixed 8% short term loans to eligible...   \n",
       "\n",
       "                                         eligibility email  \\\n",
       "0  Age 55 or over for most programs, age 60 or ov...   NaN   \n",
       "1  Age 55 or over, county resident and willing an...   NaN   \n",
       "2        Resident of San Mateo County age 55 or over   NaN   \n",
       "3                                               None   NaN   \n",
       "4  Eligibility: Low-income family with legal cust...   NaN   \n",
       "\n",
       "                                                fees  ...  \\\n",
       "0  $2.50 suggested donation for lunch for age 60 ...  ...   \n",
       "1  None. Donations requested of clients who can a...  ...   \n",
       "2                                              None.  ...   \n",
       "3  Vary according to income ($5-$90). Cash, check...  ...   \n",
       "4      $60 application fee. Cash or checks accepted.  ...   \n",
       "\n",
       "  interpretation_services                                           keywords  \\\n",
       "0                     NaN  ADULT PROTECTION AND CARE SERVICES, Meal Sites...   \n",
       "1                     NaN  EMPLOYMENT/TRAINING SERVICES, Job Development,...   \n",
       "2                     NaN  Geriatric Counseling, Older Adults, Gay, Lesbi...   \n",
       "3                     NaN  INDIVIDUAL AND FAMILY DEVELOPMENT SERVICES, Gr...   \n",
       "4                     NaN     COMMUNITY SERVICES, Speakers, Automobile Loans   \n",
       "\n",
       "  languages                               name required_documents  \\\n",
       "0       NaN    Fair Oaks Adult Activity Center                NaN   \n",
       "1       NaN   Second Career Employment Program                NaN   \n",
       "2       NaN             Senior Peer Counseling                NaN   \n",
       "3       NaN           Family Visitation Center                NaN   \n",
       "4       NaN  Economic Self-Sufficiency Program                NaN   \n",
       "\n",
       "      service_areas  status wait_time website taxonomy_ids  \n",
       "0             Colma  active  No wait.     NaN          NaN  \n",
       "1  San Mateo County  active   Varies.     NaN          NaN  \n",
       "2  San Mateo County  active   Varies.     NaN          NaN  \n",
       "3  San Mateo County  active  No wait.     NaN          NaN  \n",
       "4  San Mateo County  active       NaN     NaN          NaN  \n",
       "\n",
       "[5 rows x 21 columns]"
      ]
     },
     "execution_count": 9,
     "metadata": {},
     "output_type": "execute_result"
    }
   ],
   "source": [
    "df.head()"
   ]
  },
  {
   "cell_type": "markdown",
   "id": "8861b7db",
   "metadata": {},
   "source": [
    "### Q2. Given a Pandas DataFrame df with columns 'A', 'B', and 'C', write a Python function to re-index the DataFrame with a new index that starts from 1 and increments by 2 for each row."
   ]
  },
  {
   "cell_type": "code",
   "execution_count": 10,
   "id": "355ebac2",
   "metadata": {},
   "outputs": [],
   "source": [
    "#creatte dataframe\n",
    "df=pd.DataFrame({\n",
    "    'A':[1,2,3,4,5,6],\n",
    "    'B':[10,20,30,40,50,60],\n",
    "    'C':['a','b','c','d','e','f']\n",
    "})"
   ]
  },
  {
   "cell_type": "code",
   "execution_count": 11,
   "id": "4f8cd9d3",
   "metadata": {},
   "outputs": [
    {
     "data": {
      "text/html": [
       "<div>\n",
       "<style scoped>\n",
       "    .dataframe tbody tr th:only-of-type {\n",
       "        vertical-align: middle;\n",
       "    }\n",
       "\n",
       "    .dataframe tbody tr th {\n",
       "        vertical-align: top;\n",
       "    }\n",
       "\n",
       "    .dataframe thead th {\n",
       "        text-align: right;\n",
       "    }\n",
       "</style>\n",
       "<table border=\"1\" class=\"dataframe\">\n",
       "  <thead>\n",
       "    <tr style=\"text-align: right;\">\n",
       "      <th></th>\n",
       "      <th>A</th>\n",
       "      <th>B</th>\n",
       "      <th>C</th>\n",
       "    </tr>\n",
       "  </thead>\n",
       "  <tbody>\n",
       "    <tr>\n",
       "      <th>0</th>\n",
       "      <td>1</td>\n",
       "      <td>10</td>\n",
       "      <td>a</td>\n",
       "    </tr>\n",
       "    <tr>\n",
       "      <th>1</th>\n",
       "      <td>2</td>\n",
       "      <td>20</td>\n",
       "      <td>b</td>\n",
       "    </tr>\n",
       "    <tr>\n",
       "      <th>2</th>\n",
       "      <td>3</td>\n",
       "      <td>30</td>\n",
       "      <td>c</td>\n",
       "    </tr>\n",
       "    <tr>\n",
       "      <th>3</th>\n",
       "      <td>4</td>\n",
       "      <td>40</td>\n",
       "      <td>d</td>\n",
       "    </tr>\n",
       "    <tr>\n",
       "      <th>4</th>\n",
       "      <td>5</td>\n",
       "      <td>50</td>\n",
       "      <td>e</td>\n",
       "    </tr>\n",
       "    <tr>\n",
       "      <th>5</th>\n",
       "      <td>6</td>\n",
       "      <td>60</td>\n",
       "      <td>f</td>\n",
       "    </tr>\n",
       "  </tbody>\n",
       "</table>\n",
       "</div>"
      ],
      "text/plain": [
       "   A   B  C\n",
       "0  1  10  a\n",
       "1  2  20  b\n",
       "2  3  30  c\n",
       "3  4  40  d\n",
       "4  5  50  e\n",
       "5  6  60  f"
      ]
     },
     "execution_count": 11,
     "metadata": {},
     "output_type": "execute_result"
    }
   ],
   "source": [
    "df"
   ]
  },
  {
   "cell_type": "code",
   "execution_count": 21,
   "id": "b2b491bc",
   "metadata": {},
   "outputs": [
    {
     "name": "stdout",
     "output_type": "stream",
     "text": [
      "[1, 3, 5, 7, 9, 11]\n"
     ]
    }
   ],
   "source": [
    "print([i for i in range(1,len(df)*2,2)])"
   ]
  },
  {
   "cell_type": "code",
   "execution_count": 18,
   "id": "5a1266af",
   "metadata": {},
   "outputs": [],
   "source": [
    "def new_index_df(df):\n",
    "    \n",
    "    new_ind=[i*2+1 for i in range(len(df))]\n",
    "    df.index=new_ind\n",
    "    return df"
   ]
  },
  {
   "cell_type": "code",
   "execution_count": 19,
   "id": "1be00e2f",
   "metadata": {},
   "outputs": [],
   "source": [
    "new_df=new_index_df(df)"
   ]
  },
  {
   "cell_type": "code",
   "execution_count": 20,
   "id": "4c3d8c87",
   "metadata": {},
   "outputs": [
    {
     "data": {
      "text/html": [
       "<div>\n",
       "<style scoped>\n",
       "    .dataframe tbody tr th:only-of-type {\n",
       "        vertical-align: middle;\n",
       "    }\n",
       "\n",
       "    .dataframe tbody tr th {\n",
       "        vertical-align: top;\n",
       "    }\n",
       "\n",
       "    .dataframe thead th {\n",
       "        text-align: right;\n",
       "    }\n",
       "</style>\n",
       "<table border=\"1\" class=\"dataframe\">\n",
       "  <thead>\n",
       "    <tr style=\"text-align: right;\">\n",
       "      <th></th>\n",
       "      <th>A</th>\n",
       "      <th>B</th>\n",
       "      <th>C</th>\n",
       "    </tr>\n",
       "  </thead>\n",
       "  <tbody>\n",
       "    <tr>\n",
       "      <th>1</th>\n",
       "      <td>1</td>\n",
       "      <td>10</td>\n",
       "      <td>a</td>\n",
       "    </tr>\n",
       "    <tr>\n",
       "      <th>3</th>\n",
       "      <td>2</td>\n",
       "      <td>20</td>\n",
       "      <td>b</td>\n",
       "    </tr>\n",
       "    <tr>\n",
       "      <th>5</th>\n",
       "      <td>3</td>\n",
       "      <td>30</td>\n",
       "      <td>c</td>\n",
       "    </tr>\n",
       "    <tr>\n",
       "      <th>7</th>\n",
       "      <td>4</td>\n",
       "      <td>40</td>\n",
       "      <td>d</td>\n",
       "    </tr>\n",
       "    <tr>\n",
       "      <th>9</th>\n",
       "      <td>5</td>\n",
       "      <td>50</td>\n",
       "      <td>e</td>\n",
       "    </tr>\n",
       "    <tr>\n",
       "      <th>11</th>\n",
       "      <td>6</td>\n",
       "      <td>60</td>\n",
       "      <td>f</td>\n",
       "    </tr>\n",
       "  </tbody>\n",
       "</table>\n",
       "</div>"
      ],
      "text/plain": [
       "    A   B  C\n",
       "1   1  10  a\n",
       "3   2  20  b\n",
       "5   3  30  c\n",
       "7   4  40  d\n",
       "9   5  50  e\n",
       "11  6  60  f"
      ]
     },
     "execution_count": 20,
     "metadata": {},
     "output_type": "execute_result"
    }
   ],
   "source": [
    "new_df"
   ]
  },
  {
   "cell_type": "markdown",
   "id": "7560a69c",
   "metadata": {},
   "source": [
    "### Q3. You have a Pandas DataFrame df with a column named 'Values'. Write a Python function that iterates over the DataFrame and calculates the sum of the first three values in the 'Values' column. The function should print the sum to the console."
   ]
  },
  {
   "cell_type": "code",
   "execution_count": 27,
   "id": "483997a1",
   "metadata": {},
   "outputs": [],
   "source": [
    "df=pd.DataFrame({\n",
    "    'Values':[10,20,30,40,50,0]\n",
    "})"
   ]
  },
  {
   "cell_type": "code",
   "execution_count": 28,
   "id": "d5e0432a",
   "metadata": {},
   "outputs": [
    {
     "data": {
      "text/html": [
       "<div>\n",
       "<style scoped>\n",
       "    .dataframe tbody tr th:only-of-type {\n",
       "        vertical-align: middle;\n",
       "    }\n",
       "\n",
       "    .dataframe tbody tr th {\n",
       "        vertical-align: top;\n",
       "    }\n",
       "\n",
       "    .dataframe thead th {\n",
       "        text-align: right;\n",
       "    }\n",
       "</style>\n",
       "<table border=\"1\" class=\"dataframe\">\n",
       "  <thead>\n",
       "    <tr style=\"text-align: right;\">\n",
       "      <th></th>\n",
       "      <th>Values</th>\n",
       "    </tr>\n",
       "  </thead>\n",
       "  <tbody>\n",
       "    <tr>\n",
       "      <th>0</th>\n",
       "      <td>10</td>\n",
       "    </tr>\n",
       "    <tr>\n",
       "      <th>1</th>\n",
       "      <td>20</td>\n",
       "    </tr>\n",
       "    <tr>\n",
       "      <th>2</th>\n",
       "      <td>30</td>\n",
       "    </tr>\n",
       "    <tr>\n",
       "      <th>3</th>\n",
       "      <td>40</td>\n",
       "    </tr>\n",
       "    <tr>\n",
       "      <th>4</th>\n",
       "      <td>50</td>\n",
       "    </tr>\n",
       "    <tr>\n",
       "      <th>5</th>\n",
       "      <td>0</td>\n",
       "    </tr>\n",
       "  </tbody>\n",
       "</table>\n",
       "</div>"
      ],
      "text/plain": [
       "   Values\n",
       "0      10\n",
       "1      20\n",
       "2      30\n",
       "3      40\n",
       "4      50\n",
       "5       0"
      ]
     },
     "execution_count": 28,
     "metadata": {},
     "output_type": "execute_result"
    }
   ],
   "source": [
    "df"
   ]
  },
  {
   "cell_type": "code",
   "execution_count": 30,
   "id": "a3c4d0dd",
   "metadata": {},
   "outputs": [],
   "source": [
    "# summation function\n",
    "def cal_sum(df):\n",
    "    df=df['Values'][:3].sum()\n",
    "    return df"
   ]
  },
  {
   "cell_type": "code",
   "execution_count": 34,
   "id": "40f2be8b",
   "metadata": {},
   "outputs": [
    {
     "name": "stdout",
     "output_type": "stream",
     "text": [
      "The sum of first three values: 60\n"
     ]
    }
   ],
   "source": [
    "print(f'The sum of first three values: {cal_sum(df)}')"
   ]
  },
  {
   "cell_type": "markdown",
   "id": "2338b5fb",
   "metadata": {},
   "source": [
    "### Q4. Given a Pandas DataFrame df with a column 'Text', write a Python function to create a new column 'Word_Count' that contains the number of words in each row of the 'Text' column."
   ]
  },
  {
   "cell_type": "code",
   "execution_count": 35,
   "id": "e1b25e0b",
   "metadata": {},
   "outputs": [],
   "source": [
    "df1=pd.DataFrame({\n",
    "    'Text':['Yash','Ayush','Sarthak','Poorvika']\n",
    "})"
   ]
  },
  {
   "cell_type": "code",
   "execution_count": 36,
   "id": "d2990a0d",
   "metadata": {},
   "outputs": [],
   "source": [
    "def length_cal(df):\n",
    "    df['Word_Count']=df['Text'].apply(lambda x: len(str(x)))\n",
    "    return df"
   ]
  },
  {
   "cell_type": "code",
   "execution_count": 37,
   "id": "e20c4e4c",
   "metadata": {},
   "outputs": [],
   "source": [
    "new_df=length_cal(df1)"
   ]
  },
  {
   "cell_type": "code",
   "execution_count": 38,
   "id": "0cd0823e",
   "metadata": {},
   "outputs": [
    {
     "data": {
      "text/html": [
       "<div>\n",
       "<style scoped>\n",
       "    .dataframe tbody tr th:only-of-type {\n",
       "        vertical-align: middle;\n",
       "    }\n",
       "\n",
       "    .dataframe tbody tr th {\n",
       "        vertical-align: top;\n",
       "    }\n",
       "\n",
       "    .dataframe thead th {\n",
       "        text-align: right;\n",
       "    }\n",
       "</style>\n",
       "<table border=\"1\" class=\"dataframe\">\n",
       "  <thead>\n",
       "    <tr style=\"text-align: right;\">\n",
       "      <th></th>\n",
       "      <th>Text</th>\n",
       "      <th>Word_Count</th>\n",
       "    </tr>\n",
       "  </thead>\n",
       "  <tbody>\n",
       "    <tr>\n",
       "      <th>0</th>\n",
       "      <td>Yash</td>\n",
       "      <td>4</td>\n",
       "    </tr>\n",
       "    <tr>\n",
       "      <th>1</th>\n",
       "      <td>Ayush</td>\n",
       "      <td>5</td>\n",
       "    </tr>\n",
       "    <tr>\n",
       "      <th>2</th>\n",
       "      <td>Sarthak</td>\n",
       "      <td>7</td>\n",
       "    </tr>\n",
       "    <tr>\n",
       "      <th>3</th>\n",
       "      <td>Poorvika</td>\n",
       "      <td>8</td>\n",
       "    </tr>\n",
       "  </tbody>\n",
       "</table>\n",
       "</div>"
      ],
      "text/plain": [
       "       Text  Word_Count\n",
       "0      Yash           4\n",
       "1     Ayush           5\n",
       "2   Sarthak           7\n",
       "3  Poorvika           8"
      ]
     },
     "execution_count": 38,
     "metadata": {},
     "output_type": "execute_result"
    }
   ],
   "source": [
    "new_df"
   ]
  },
  {
   "cell_type": "markdown",
   "id": "01fc0d67",
   "metadata": {},
   "source": [
    "### Q5. How are DataFrame.size() and DataFrame.shape() different?"
   ]
  },
  {
   "cell_type": "markdown",
   "id": "3902a27e",
   "metadata": {},
   "source": [
    "__DataFrame.size__ gives the total number of elements in the DataFrame, which is equal to the number of rows multiplied by the number of columns. In other words, it returns the total number of cells in the DataFrame.\n",
    "\n",
    "__DataFrame.shape__ returns a tuple of the form (rows, columns) that gives the dimensions of the DataFrame. The first element of the tuple gives the number of rows in the DataFrame, and the second element gives the number of columns in the DataFrame."
   ]
  },
  {
   "cell_type": "code",
   "execution_count": 42,
   "id": "4ee68b9e",
   "metadata": {},
   "outputs": [],
   "source": [
    "# example\n",
    "df = pd.DataFrame({'A': [1, 2, 3],\n",
    "                   'B': [4, 5, 6], \n",
    "                   'C': [7, 8, 9], \n",
    "                   'D': [10, 11, 12]\n",
    "                  })"
   ]
  },
  {
   "cell_type": "code",
   "execution_count": 43,
   "id": "fbc736b5",
   "metadata": {},
   "outputs": [
    {
     "data": {
      "text/plain": [
       "12"
      ]
     },
     "execution_count": 43,
     "metadata": {},
     "output_type": "execute_result"
    }
   ],
   "source": [
    "df.size"
   ]
  },
  {
   "cell_type": "code",
   "execution_count": 44,
   "id": "0fcfc0c3",
   "metadata": {},
   "outputs": [
    {
     "data": {
      "text/plain": [
       "(3, 4)"
      ]
     },
     "execution_count": 44,
     "metadata": {},
     "output_type": "execute_result"
    }
   ],
   "source": [
    "df.shape"
   ]
  },
  {
   "cell_type": "markdown",
   "id": "5114e975",
   "metadata": {},
   "source": [
    "### Q6. Which function of pandas do we use to read an excel file?"
   ]
  },
  {
   "cell_type": "code",
   "execution_count": 46,
   "id": "350479d8",
   "metadata": {},
   "outputs": [],
   "source": [
    "# read an Excel file and create a DataFrame\n",
    "df = pd.read_excel('LUSID Excel - Setting up your market data.xlsx')"
   ]
  },
  {
   "cell_type": "code",
   "execution_count": 48,
   "id": "96dfa039",
   "metadata": {},
   "outputs": [
    {
     "data": {
      "text/html": [
       "<div>\n",
       "<style scoped>\n",
       "    .dataframe tbody tr th:only-of-type {\n",
       "        vertical-align: middle;\n",
       "    }\n",
       "\n",
       "    .dataframe tbody tr th {\n",
       "        vertical-align: top;\n",
       "    }\n",
       "\n",
       "    .dataframe thead th {\n",
       "        text-align: right;\n",
       "    }\n",
       "</style>\n",
       "<table border=\"1\" class=\"dataframe\">\n",
       "  <thead>\n",
       "    <tr style=\"text-align: right;\">\n",
       "      <th></th>\n",
       "      <th>Unnamed: 0</th>\n",
       "      <th>Unnamed: 1</th>\n",
       "      <th>Unnamed: 2</th>\n",
       "      <th>Unnamed: 3</th>\n",
       "      <th>Unnamed: 4</th>\n",
       "      <th>Unnamed: 5</th>\n",
       "      <th>Unnamed: 6</th>\n",
       "      <th>Unnamed: 7</th>\n",
       "      <th>Unnamed: 8</th>\n",
       "      <th>Unnamed: 9</th>\n",
       "    </tr>\n",
       "  </thead>\n",
       "  <tbody>\n",
       "    <tr>\n",
       "      <th>0</th>\n",
       "      <td>NaN</td>\n",
       "      <td>NaN</td>\n",
       "      <td>NaN</td>\n",
       "      <td>NaN</td>\n",
       "      <td>NaN</td>\n",
       "      <td>NaN</td>\n",
       "      <td>NaN</td>\n",
       "      <td>NaN</td>\n",
       "      <td>NaN</td>\n",
       "      <td>NaN</td>\n",
       "    </tr>\n",
       "    <tr>\n",
       "      <th>1</th>\n",
       "      <td>NaN</td>\n",
       "      <td>NaN</td>\n",
       "      <td>NaN</td>\n",
       "      <td>Datetimes in LUSID</td>\n",
       "      <td>NaN</td>\n",
       "      <td>NaN</td>\n",
       "      <td>NaN</td>\n",
       "      <td>NaN</td>\n",
       "      <td>NaN</td>\n",
       "      <td>NaN</td>\n",
       "    </tr>\n",
       "    <tr>\n",
       "      <th>2</th>\n",
       "      <td>NaN</td>\n",
       "      <td>NaN</td>\n",
       "      <td>NaN</td>\n",
       "      <td>NaN</td>\n",
       "      <td>NaN</td>\n",
       "      <td>NaN</td>\n",
       "      <td>NaN</td>\n",
       "      <td>NaN</td>\n",
       "      <td>NaN</td>\n",
       "      <td>NaN</td>\n",
       "    </tr>\n",
       "    <tr>\n",
       "      <th>3</th>\n",
       "      <td>NaN</td>\n",
       "      <td>NaN</td>\n",
       "      <td>NaN</td>\n",
       "      <td>This sheet allows you to format datetimes for...</td>\n",
       "      <td>NaN</td>\n",
       "      <td>NaN</td>\n",
       "      <td>NaN</td>\n",
       "      <td>NaN</td>\n",
       "      <td>NaN</td>\n",
       "      <td>NaN</td>\n",
       "    </tr>\n",
       "    <tr>\n",
       "      <th>4</th>\n",
       "      <td>NaN</td>\n",
       "      <td>NaN</td>\n",
       "      <td>NaN</td>\n",
       "      <td>If you have any questions please visit our:</td>\n",
       "      <td>NaN</td>\n",
       "      <td>NaN</td>\n",
       "      <td>NaN</td>\n",
       "      <td>NaN</td>\n",
       "      <td>NaN</td>\n",
       "      <td>NaN</td>\n",
       "    </tr>\n",
       "  </tbody>\n",
       "</table>\n",
       "</div>"
      ],
      "text/plain": [
       "   Unnamed: 0  Unnamed: 1  Unnamed: 2  \\\n",
       "0         NaN         NaN         NaN   \n",
       "1         NaN         NaN         NaN   \n",
       "2         NaN         NaN         NaN   \n",
       "3         NaN         NaN         NaN   \n",
       "4         NaN         NaN         NaN   \n",
       "\n",
       "                                          Unnamed: 3 Unnamed: 4 Unnamed: 5  \\\n",
       "0                                                NaN        NaN        NaN   \n",
       "1                                 Datetimes in LUSID        NaN        NaN   \n",
       "2                                                NaN        NaN        NaN   \n",
       "3   This sheet allows you to format datetimes for...        NaN        NaN   \n",
       "4        If you have any questions please visit our:        NaN        NaN   \n",
       "\n",
       "   Unnamed: 6 Unnamed: 7 Unnamed: 8 Unnamed: 9  \n",
       "0         NaN        NaN        NaN        NaN  \n",
       "1         NaN        NaN        NaN        NaN  \n",
       "2         NaN        NaN        NaN        NaN  \n",
       "3         NaN        NaN        NaN        NaN  \n",
       "4         NaN        NaN        NaN        NaN  "
      ]
     },
     "execution_count": 48,
     "metadata": {},
     "output_type": "execute_result"
    }
   ],
   "source": [
    "df.head()"
   ]
  },
  {
   "cell_type": "markdown",
   "id": "7fc4c4fb",
   "metadata": {},
   "source": [
    "### Q7. You have a Pandas DataFrame df that contains a column named 'Email' that contains email addresses in the format 'username@domain.com'. Write a Python function that creates a new column 'Username' in df that contains only the username part of each email address."
   ]
  },
  {
   "cell_type": "code",
   "execution_count": 56,
   "id": "f63da7a2",
   "metadata": {},
   "outputs": [],
   "source": [
    "df=pd.DataFrame({\n",
    "    'Email':['yash@kiet.com','mayank@gmail.com','mohan.joe@google.com']\n",
    "})"
   ]
  },
  {
   "cell_type": "code",
   "execution_count": 57,
   "id": "1a360102",
   "metadata": {},
   "outputs": [
    {
     "data": {
      "text/html": [
       "<div>\n",
       "<style scoped>\n",
       "    .dataframe tbody tr th:only-of-type {\n",
       "        vertical-align: middle;\n",
       "    }\n",
       "\n",
       "    .dataframe tbody tr th {\n",
       "        vertical-align: top;\n",
       "    }\n",
       "\n",
       "    .dataframe thead th {\n",
       "        text-align: right;\n",
       "    }\n",
       "</style>\n",
       "<table border=\"1\" class=\"dataframe\">\n",
       "  <thead>\n",
       "    <tr style=\"text-align: right;\">\n",
       "      <th></th>\n",
       "      <th>Email</th>\n",
       "    </tr>\n",
       "  </thead>\n",
       "  <tbody>\n",
       "    <tr>\n",
       "      <th>0</th>\n",
       "      <td>yash@kiet.com</td>\n",
       "    </tr>\n",
       "    <tr>\n",
       "      <th>1</th>\n",
       "      <td>mayank@gmail.com</td>\n",
       "    </tr>\n",
       "    <tr>\n",
       "      <th>2</th>\n",
       "      <td>mohan.joe@google.com</td>\n",
       "    </tr>\n",
       "  </tbody>\n",
       "</table>\n",
       "</div>"
      ],
      "text/plain": [
       "                  Email\n",
       "0         yash@kiet.com\n",
       "1      mayank@gmail.com\n",
       "2  mohan.joe@google.com"
      ]
     },
     "execution_count": 57,
     "metadata": {},
     "output_type": "execute_result"
    }
   ],
   "source": [
    "df"
   ]
  },
  {
   "cell_type": "code",
   "execution_count": 58,
   "id": "e12860dc",
   "metadata": {},
   "outputs": [
    {
     "data": {
      "text/plain": [
       "'yash'"
      ]
     },
     "execution_count": 58,
     "metadata": {},
     "output_type": "execute_result"
    }
   ],
   "source": [
    "'yash@kiet.com'.split('@')[0]"
   ]
  },
  {
   "cell_type": "code",
   "execution_count": 59,
   "id": "7e59a0de",
   "metadata": {},
   "outputs": [],
   "source": [
    "def extract_username(df):\n",
    "    df['Username']=df['Email'].apply(lambda x:x.split('@')[0])\n",
    "    return df"
   ]
  },
  {
   "cell_type": "code",
   "execution_count": 60,
   "id": "c4a5f72e",
   "metadata": {},
   "outputs": [],
   "source": [
    "new_df=extract_username(df)"
   ]
  },
  {
   "cell_type": "code",
   "execution_count": 61,
   "id": "841a8fe2",
   "metadata": {},
   "outputs": [
    {
     "data": {
      "text/html": [
       "<div>\n",
       "<style scoped>\n",
       "    .dataframe tbody tr th:only-of-type {\n",
       "        vertical-align: middle;\n",
       "    }\n",
       "\n",
       "    .dataframe tbody tr th {\n",
       "        vertical-align: top;\n",
       "    }\n",
       "\n",
       "    .dataframe thead th {\n",
       "        text-align: right;\n",
       "    }\n",
       "</style>\n",
       "<table border=\"1\" class=\"dataframe\">\n",
       "  <thead>\n",
       "    <tr style=\"text-align: right;\">\n",
       "      <th></th>\n",
       "      <th>Email</th>\n",
       "      <th>Username</th>\n",
       "    </tr>\n",
       "  </thead>\n",
       "  <tbody>\n",
       "    <tr>\n",
       "      <th>0</th>\n",
       "      <td>yash@kiet.com</td>\n",
       "      <td>yash</td>\n",
       "    </tr>\n",
       "    <tr>\n",
       "      <th>1</th>\n",
       "      <td>mayank@gmail.com</td>\n",
       "      <td>mayank</td>\n",
       "    </tr>\n",
       "    <tr>\n",
       "      <th>2</th>\n",
       "      <td>mohan.joe@google.com</td>\n",
       "      <td>mohan.joe</td>\n",
       "    </tr>\n",
       "  </tbody>\n",
       "</table>\n",
       "</div>"
      ],
      "text/plain": [
       "                  Email   Username\n",
       "0         yash@kiet.com       yash\n",
       "1      mayank@gmail.com     mayank\n",
       "2  mohan.joe@google.com  mohan.joe"
      ]
     },
     "execution_count": 61,
     "metadata": {},
     "output_type": "execute_result"
    }
   ],
   "source": [
    "new_df"
   ]
  },
  {
   "cell_type": "markdown",
   "id": "c9f58871",
   "metadata": {},
   "source": [
    "### Q8. You have a Pandas DataFrame df with columns 'A', 'B', and 'C'. Write a Python function that selects all rows where the value in column 'A' is greater than 5 and the value in column 'B' is less than 10. The function should return a new DataFrame that contains only the selected rows."
   ]
  },
  {
   "cell_type": "code",
   "execution_count": 77,
   "id": "26e367c9",
   "metadata": {},
   "outputs": [],
   "source": [
    "df=pd.DataFrame({\n",
    "    'A':[3,8,6,2,9],\n",
    "    'B':[5,2,9,3,1],\n",
    "    'C':[1,7,4,5,2]\n",
    "})"
   ]
  },
  {
   "cell_type": "code",
   "execution_count": 78,
   "id": "52883ed8",
   "metadata": {},
   "outputs": [
    {
     "data": {
      "text/html": [
       "<div>\n",
       "<style scoped>\n",
       "    .dataframe tbody tr th:only-of-type {\n",
       "        vertical-align: middle;\n",
       "    }\n",
       "\n",
       "    .dataframe tbody tr th {\n",
       "        vertical-align: top;\n",
       "    }\n",
       "\n",
       "    .dataframe thead th {\n",
       "        text-align: right;\n",
       "    }\n",
       "</style>\n",
       "<table border=\"1\" class=\"dataframe\">\n",
       "  <thead>\n",
       "    <tr style=\"text-align: right;\">\n",
       "      <th></th>\n",
       "      <th>A</th>\n",
       "      <th>B</th>\n",
       "      <th>C</th>\n",
       "    </tr>\n",
       "  </thead>\n",
       "  <tbody>\n",
       "    <tr>\n",
       "      <th>0</th>\n",
       "      <td>3</td>\n",
       "      <td>5</td>\n",
       "      <td>1</td>\n",
       "    </tr>\n",
       "    <tr>\n",
       "      <th>1</th>\n",
       "      <td>8</td>\n",
       "      <td>2</td>\n",
       "      <td>7</td>\n",
       "    </tr>\n",
       "    <tr>\n",
       "      <th>2</th>\n",
       "      <td>6</td>\n",
       "      <td>9</td>\n",
       "      <td>4</td>\n",
       "    </tr>\n",
       "    <tr>\n",
       "      <th>3</th>\n",
       "      <td>2</td>\n",
       "      <td>3</td>\n",
       "      <td>5</td>\n",
       "    </tr>\n",
       "    <tr>\n",
       "      <th>4</th>\n",
       "      <td>9</td>\n",
       "      <td>1</td>\n",
       "      <td>2</td>\n",
       "    </tr>\n",
       "  </tbody>\n",
       "</table>\n",
       "</div>"
      ],
      "text/plain": [
       "   A  B  C\n",
       "0  3  5  1\n",
       "1  8  2  7\n",
       "2  6  9  4\n",
       "3  2  3  5\n",
       "4  9  1  2"
      ]
     },
     "execution_count": 78,
     "metadata": {},
     "output_type": "execute_result"
    }
   ],
   "source": [
    "df"
   ]
  },
  {
   "cell_type": "code",
   "execution_count": 79,
   "id": "0b07e3bf",
   "metadata": {},
   "outputs": [
    {
     "data": {
      "text/html": [
       "<div>\n",
       "<style scoped>\n",
       "    .dataframe tbody tr th:only-of-type {\n",
       "        vertical-align: middle;\n",
       "    }\n",
       "\n",
       "    .dataframe tbody tr th {\n",
       "        vertical-align: top;\n",
       "    }\n",
       "\n",
       "    .dataframe thead th {\n",
       "        text-align: right;\n",
       "    }\n",
       "</style>\n",
       "<table border=\"1\" class=\"dataframe\">\n",
       "  <thead>\n",
       "    <tr style=\"text-align: right;\">\n",
       "      <th></th>\n",
       "      <th>A</th>\n",
       "      <th>B</th>\n",
       "      <th>C</th>\n",
       "    </tr>\n",
       "  </thead>\n",
       "  <tbody>\n",
       "    <tr>\n",
       "      <th>1</th>\n",
       "      <td>8</td>\n",
       "      <td>2</td>\n",
       "      <td>7</td>\n",
       "    </tr>\n",
       "    <tr>\n",
       "      <th>2</th>\n",
       "      <td>6</td>\n",
       "      <td>9</td>\n",
       "      <td>4</td>\n",
       "    </tr>\n",
       "    <tr>\n",
       "      <th>4</th>\n",
       "      <td>9</td>\n",
       "      <td>1</td>\n",
       "      <td>2</td>\n",
       "    </tr>\n",
       "  </tbody>\n",
       "</table>\n",
       "</div>"
      ],
      "text/plain": [
       "   A  B  C\n",
       "1  8  2  7\n",
       "2  6  9  4\n",
       "4  9  1  2"
      ]
     },
     "execution_count": 79,
     "metadata": {},
     "output_type": "execute_result"
    }
   ],
   "source": [
    "df[(df['A']>5) & (df['B']<10)]"
   ]
  },
  {
   "cell_type": "code",
   "execution_count": 83,
   "id": "a898c1a6",
   "metadata": {},
   "outputs": [],
   "source": [
    "# function\n",
    "def select_rows(df):\n",
    "    selected_rows=df[(df['A']>5) & (df['B']<10)]\n",
    "    return selected_rows"
   ]
  },
  {
   "cell_type": "code",
   "execution_count": 84,
   "id": "f123f914",
   "metadata": {},
   "outputs": [],
   "source": [
    "new_df =select_rows(df)"
   ]
  },
  {
   "cell_type": "code",
   "execution_count": 85,
   "id": "09267ad8",
   "metadata": {},
   "outputs": [
    {
     "data": {
      "text/html": [
       "<div>\n",
       "<style scoped>\n",
       "    .dataframe tbody tr th:only-of-type {\n",
       "        vertical-align: middle;\n",
       "    }\n",
       "\n",
       "    .dataframe tbody tr th {\n",
       "        vertical-align: top;\n",
       "    }\n",
       "\n",
       "    .dataframe thead th {\n",
       "        text-align: right;\n",
       "    }\n",
       "</style>\n",
       "<table border=\"1\" class=\"dataframe\">\n",
       "  <thead>\n",
       "    <tr style=\"text-align: right;\">\n",
       "      <th></th>\n",
       "      <th>A</th>\n",
       "      <th>B</th>\n",
       "      <th>C</th>\n",
       "    </tr>\n",
       "  </thead>\n",
       "  <tbody>\n",
       "    <tr>\n",
       "      <th>1</th>\n",
       "      <td>8</td>\n",
       "      <td>2</td>\n",
       "      <td>7</td>\n",
       "    </tr>\n",
       "    <tr>\n",
       "      <th>2</th>\n",
       "      <td>6</td>\n",
       "      <td>9</td>\n",
       "      <td>4</td>\n",
       "    </tr>\n",
       "    <tr>\n",
       "      <th>4</th>\n",
       "      <td>9</td>\n",
       "      <td>1</td>\n",
       "      <td>2</td>\n",
       "    </tr>\n",
       "  </tbody>\n",
       "</table>\n",
       "</div>"
      ],
      "text/plain": [
       "   A  B  C\n",
       "1  8  2  7\n",
       "2  6  9  4\n",
       "4  9  1  2"
      ]
     },
     "execution_count": 85,
     "metadata": {},
     "output_type": "execute_result"
    }
   ],
   "source": [
    "new_df"
   ]
  },
  {
   "cell_type": "markdown",
   "id": "6e7ac078",
   "metadata": {},
   "source": [
    "### Q9. Given a Pandas DataFrame df with a column 'Values', write a Python function to calculate the mean, median, and standard deviation of the values in the 'Values' column."
   ]
  },
  {
   "cell_type": "code",
   "execution_count": 86,
   "id": "a88eac0e",
   "metadata": {},
   "outputs": [],
   "source": [
    "df=pd.DataFrame({\n",
    "    'Values':[1,2,3,4,5,6,7,8,9]\n",
    "})"
   ]
  },
  {
   "cell_type": "code",
   "execution_count": 87,
   "id": "fe3fbb33",
   "metadata": {},
   "outputs": [],
   "source": [
    "def stats(df):\n",
    "    mean=df['Values'].mean()\n",
    "    median=df['Values'].median()\n",
    "    std_dev=df['Values'].std()\n",
    "    \n",
    "    return (mean,median,std_dev)"
   ]
  },
  {
   "cell_type": "code",
   "execution_count": 88,
   "id": "22138938",
   "metadata": {},
   "outputs": [],
   "source": [
    "res= stats(df)"
   ]
  },
  {
   "cell_type": "code",
   "execution_count": 89,
   "id": "b03ef23f",
   "metadata": {},
   "outputs": [
    {
     "name": "stdout",
     "output_type": "stream",
     "text": [
      "Mean 5.0\n",
      "Median 5.0\n",
      "Standard Deviation 2.7386127875258306\n"
     ]
    }
   ],
   "source": [
    "print(\"Mean\",res[0])\n",
    "print(\"Median\",res[1])\n",
    "print(\"Standard Deviation\",res[2])"
   ]
  },
  {
   "cell_type": "markdown",
   "id": "9b0d3a06",
   "metadata": {},
   "source": [
    "### Q10. Given a Pandas DataFrame df with a column 'Sales' and a column 'Date', write a Python function to create a new column 'MovingAverage' that contains the moving average of the sales for the past 7 days for each row in the DataFrame. The moving average should be calculated using a window of size 7 and should include the current day."
   ]
  },
  {
   "cell_type": "code",
   "execution_count": 93,
   "id": "7f7a0314",
   "metadata": {},
   "outputs": [],
   "source": [
    "import pandas as pd\n",
    "\n",
    "# Create a sample DataFrame with 7 days of sales data\n",
    "df = pd.DataFrame({\n",
    "    'Date': pd.date_range(start='2022-02-01', periods=7),\n",
    "    'Sales': [50, 45, 55, 60, 70, 75, 80]\n",
    "})"
   ]
  },
  {
   "cell_type": "code",
   "execution_count": 94,
   "id": "7c3cac85",
   "metadata": {},
   "outputs": [],
   "source": [
    "def moving_average(df):\n",
    "    ma_list = []\n",
    "    for i in range(len(df)):\n",
    "        if i < 6:\n",
    "            ma_list.append(df.iloc[:i+1]['Sales'].mean())\n",
    "        else:\n",
    "            ma_list.append(df.iloc[i-6:i+1]['Sales'].mean())\n",
    "    df['MovingAverage'] = ma_list\n",
    "    return df\n"
   ]
  },
  {
   "cell_type": "code",
   "execution_count": 95,
   "id": "496838f7",
   "metadata": {},
   "outputs": [
    {
     "data": {
      "text/html": [
       "<div>\n",
       "<style scoped>\n",
       "    .dataframe tbody tr th:only-of-type {\n",
       "        vertical-align: middle;\n",
       "    }\n",
       "\n",
       "    .dataframe tbody tr th {\n",
       "        vertical-align: top;\n",
       "    }\n",
       "\n",
       "    .dataframe thead th {\n",
       "        text-align: right;\n",
       "    }\n",
       "</style>\n",
       "<table border=\"1\" class=\"dataframe\">\n",
       "  <thead>\n",
       "    <tr style=\"text-align: right;\">\n",
       "      <th></th>\n",
       "      <th>Date</th>\n",
       "      <th>Sales</th>\n",
       "      <th>MovingAverage</th>\n",
       "    </tr>\n",
       "  </thead>\n",
       "  <tbody>\n",
       "    <tr>\n",
       "      <th>0</th>\n",
       "      <td>2022-02-01</td>\n",
       "      <td>50</td>\n",
       "      <td>50.000000</td>\n",
       "    </tr>\n",
       "    <tr>\n",
       "      <th>1</th>\n",
       "      <td>2022-02-02</td>\n",
       "      <td>45</td>\n",
       "      <td>47.500000</td>\n",
       "    </tr>\n",
       "    <tr>\n",
       "      <th>2</th>\n",
       "      <td>2022-02-03</td>\n",
       "      <td>55</td>\n",
       "      <td>50.000000</td>\n",
       "    </tr>\n",
       "    <tr>\n",
       "      <th>3</th>\n",
       "      <td>2022-02-04</td>\n",
       "      <td>60</td>\n",
       "      <td>52.500000</td>\n",
       "    </tr>\n",
       "    <tr>\n",
       "      <th>4</th>\n",
       "      <td>2022-02-05</td>\n",
       "      <td>70</td>\n",
       "      <td>56.000000</td>\n",
       "    </tr>\n",
       "    <tr>\n",
       "      <th>5</th>\n",
       "      <td>2022-02-06</td>\n",
       "      <td>75</td>\n",
       "      <td>59.166667</td>\n",
       "    </tr>\n",
       "    <tr>\n",
       "      <th>6</th>\n",
       "      <td>2022-02-07</td>\n",
       "      <td>80</td>\n",
       "      <td>62.142857</td>\n",
       "    </tr>\n",
       "  </tbody>\n",
       "</table>\n",
       "</div>"
      ],
      "text/plain": [
       "        Date  Sales  MovingAverage\n",
       "0 2022-02-01     50      50.000000\n",
       "1 2022-02-02     45      47.500000\n",
       "2 2022-02-03     55      50.000000\n",
       "3 2022-02-04     60      52.500000\n",
       "4 2022-02-05     70      56.000000\n",
       "5 2022-02-06     75      59.166667\n",
       "6 2022-02-07     80      62.142857"
      ]
     },
     "execution_count": 95,
     "metadata": {},
     "output_type": "execute_result"
    }
   ],
   "source": [
    "new_df=moving_average(df)\n",
    "new_df"
   ]
  },
  {
   "cell_type": "markdown",
   "id": "2b999ffc",
   "metadata": {},
   "source": [
    "### Q11. You have a Pandas DataFrame df with a column 'Date'. Write a Python function that creates a new column 'Weekday' in the DataFrame. The 'Weekday' column should contain the weekday name (e.g. Monday, Tuesday) corresponding to each date in the 'Date' column."
   ]
  },
  {
   "cell_type": "code",
   "execution_count": 121,
   "id": "9550dfc7",
   "metadata": {},
   "outputs": [
    {
     "data": {
      "text/html": [
       "<div>\n",
       "<style scoped>\n",
       "    .dataframe tbody tr th:only-of-type {\n",
       "        vertical-align: middle;\n",
       "    }\n",
       "\n",
       "    .dataframe tbody tr th {\n",
       "        vertical-align: top;\n",
       "    }\n",
       "\n",
       "    .dataframe thead th {\n",
       "        text-align: right;\n",
       "    }\n",
       "</style>\n",
       "<table border=\"1\" class=\"dataframe\">\n",
       "  <thead>\n",
       "    <tr style=\"text-align: right;\">\n",
       "      <th></th>\n",
       "      <th>Date</th>\n",
       "    </tr>\n",
       "  </thead>\n",
       "  <tbody>\n",
       "    <tr>\n",
       "      <th>0</th>\n",
       "      <td>2023-02-21</td>\n",
       "    </tr>\n",
       "    <tr>\n",
       "      <th>1</th>\n",
       "      <td>2023-02-22</td>\n",
       "    </tr>\n",
       "    <tr>\n",
       "      <th>2</th>\n",
       "      <td>2022-02-23</td>\n",
       "    </tr>\n",
       "    <tr>\n",
       "      <th>3</th>\n",
       "      <td>2022-02-24</td>\n",
       "    </tr>\n",
       "    <tr>\n",
       "      <th>4</th>\n",
       "      <td>2022-02-25</td>\n",
       "    </tr>\n",
       "    <tr>\n",
       "      <th>5</th>\n",
       "      <td>2022-02-26</td>\n",
       "    </tr>\n",
       "    <tr>\n",
       "      <th>6</th>\n",
       "      <td>2023-02-24</td>\n",
       "    </tr>\n",
       "  </tbody>\n",
       "</table>\n",
       "</div>"
      ],
      "text/plain": [
       "         Date\n",
       "0  2023-02-21\n",
       "1  2023-02-22\n",
       "2  2022-02-23\n",
       "3  2022-02-24\n",
       "4  2022-02-25\n",
       "5  2022-02-26\n",
       "6  2023-02-24"
      ]
     },
     "execution_count": 121,
     "metadata": {},
     "output_type": "execute_result"
    }
   ],
   "source": [
    "# Create example DataFrame\n",
    "df = pd.DataFrame({\n",
    "    'Date': ['2023-02-21', '2023-02-22', '2022-02-23', '2022-02-24', '2022-02-25', '2022-02-26', '2023-02-24']\n",
    "})\n",
    "\n",
    "df"
   ]
  },
  {
   "cell_type": "code",
   "execution_count": 122,
   "id": "f1946b5b",
   "metadata": {},
   "outputs": [],
   "source": [
    "def weekday_col(df):\n",
    "    # Convert 'Date' column to datetime type\n",
    "    df['Date'] = pd.to_datetime(df['Date'])\n",
    "    \n",
    "    # Create 'Weekday' column\n",
    "    df['Weekday'] = df['Date'].dt.day_name()\n",
    "    \n",
    "    return df"
   ]
  },
  {
   "cell_type": "code",
   "execution_count": 123,
   "id": "1a844014",
   "metadata": {},
   "outputs": [
    {
     "data": {
      "text/html": [
       "<div>\n",
       "<style scoped>\n",
       "    .dataframe tbody tr th:only-of-type {\n",
       "        vertical-align: middle;\n",
       "    }\n",
       "\n",
       "    .dataframe tbody tr th {\n",
       "        vertical-align: top;\n",
       "    }\n",
       "\n",
       "    .dataframe thead th {\n",
       "        text-align: right;\n",
       "    }\n",
       "</style>\n",
       "<table border=\"1\" class=\"dataframe\">\n",
       "  <thead>\n",
       "    <tr style=\"text-align: right;\">\n",
       "      <th></th>\n",
       "      <th>Date</th>\n",
       "      <th>Weekday</th>\n",
       "    </tr>\n",
       "  </thead>\n",
       "  <tbody>\n",
       "    <tr>\n",
       "      <th>0</th>\n",
       "      <td>2023-02-21</td>\n",
       "      <td>Tuesday</td>\n",
       "    </tr>\n",
       "    <tr>\n",
       "      <th>1</th>\n",
       "      <td>2023-02-22</td>\n",
       "      <td>Wednesday</td>\n",
       "    </tr>\n",
       "    <tr>\n",
       "      <th>2</th>\n",
       "      <td>2022-02-23</td>\n",
       "      <td>Wednesday</td>\n",
       "    </tr>\n",
       "    <tr>\n",
       "      <th>3</th>\n",
       "      <td>2022-02-24</td>\n",
       "      <td>Thursday</td>\n",
       "    </tr>\n",
       "    <tr>\n",
       "      <th>4</th>\n",
       "      <td>2022-02-25</td>\n",
       "      <td>Friday</td>\n",
       "    </tr>\n",
       "    <tr>\n",
       "      <th>5</th>\n",
       "      <td>2022-02-26</td>\n",
       "      <td>Saturday</td>\n",
       "    </tr>\n",
       "    <tr>\n",
       "      <th>6</th>\n",
       "      <td>2023-02-24</td>\n",
       "      <td>Friday</td>\n",
       "    </tr>\n",
       "  </tbody>\n",
       "</table>\n",
       "</div>"
      ],
      "text/plain": [
       "        Date    Weekday\n",
       "0 2023-02-21    Tuesday\n",
       "1 2023-02-22  Wednesday\n",
       "2 2022-02-23  Wednesday\n",
       "3 2022-02-24   Thursday\n",
       "4 2022-02-25     Friday\n",
       "5 2022-02-26   Saturday\n",
       "6 2023-02-24     Friday"
      ]
     },
     "execution_count": 123,
     "metadata": {},
     "output_type": "execute_result"
    }
   ],
   "source": [
    "new_df=weekday_col(df)\n",
    "new_df"
   ]
  },
  {
   "cell_type": "markdown",
   "id": "68b3d238",
   "metadata": {},
   "source": [
    "### Q12. Given a Pandas DataFrame df with a column 'Date' that contains timestamps, write a Python function to select all rows where the date is between '2023-01-01' and '2023-01-31'."
   ]
  },
  {
   "cell_type": "code",
   "execution_count": 124,
   "id": "f604861a",
   "metadata": {},
   "outputs": [],
   "source": [
    "# create example dataframe\n",
    "df = pd.DataFrame({'Date': ['2023-01-01', '2023-01-15', '2023-01-31', '2023-02-23' ,'2023-02-15'],\n",
    "                   })"
   ]
  },
  {
   "cell_type": "code",
   "execution_count": 125,
   "id": "4edf7cc7",
   "metadata": {},
   "outputs": [
    {
     "data": {
      "text/html": [
       "<div>\n",
       "<style scoped>\n",
       "    .dataframe tbody tr th:only-of-type {\n",
       "        vertical-align: middle;\n",
       "    }\n",
       "\n",
       "    .dataframe tbody tr th {\n",
       "        vertical-align: top;\n",
       "    }\n",
       "\n",
       "    .dataframe thead th {\n",
       "        text-align: right;\n",
       "    }\n",
       "</style>\n",
       "<table border=\"1\" class=\"dataframe\">\n",
       "  <thead>\n",
       "    <tr style=\"text-align: right;\">\n",
       "      <th></th>\n",
       "      <th>Date</th>\n",
       "    </tr>\n",
       "  </thead>\n",
       "  <tbody>\n",
       "    <tr>\n",
       "      <th>0</th>\n",
       "      <td>2023-01-01</td>\n",
       "    </tr>\n",
       "    <tr>\n",
       "      <th>1</th>\n",
       "      <td>2023-01-15</td>\n",
       "    </tr>\n",
       "    <tr>\n",
       "      <th>2</th>\n",
       "      <td>2023-01-31</td>\n",
       "    </tr>\n",
       "    <tr>\n",
       "      <th>3</th>\n",
       "      <td>2023-02-23</td>\n",
       "    </tr>\n",
       "    <tr>\n",
       "      <th>4</th>\n",
       "      <td>2023-02-15</td>\n",
       "    </tr>\n",
       "  </tbody>\n",
       "</table>\n",
       "</div>"
      ],
      "text/plain": [
       "         Date\n",
       "0  2023-01-01\n",
       "1  2023-01-15\n",
       "2  2023-01-31\n",
       "3  2023-02-23\n",
       "4  2023-02-15"
      ]
     },
     "execution_count": 125,
     "metadata": {},
     "output_type": "execute_result"
    }
   ],
   "source": [
    "df"
   ]
  },
  {
   "cell_type": "code",
   "execution_count": 127,
   "id": "7412d186",
   "metadata": {},
   "outputs": [],
   "source": [
    "def select_dates(df):\n",
    "    # convert 'Date' column to datetime type\n",
    "    df['Date'] = pd.to_datetime(df['Date'])\n",
    "    \n",
    "    start=pd.to_datetime('2023-01-01')\n",
    "    end=pd.to_datetime('2023-01-31')\n",
    "    \n",
    "    a=(df['Date']>=start) & (df['Date']<=end)\n",
    "    res=df.loc[a]\n",
    "    return res"
   ]
  },
  {
   "cell_type": "code",
   "execution_count": 129,
   "id": "a297dbd8",
   "metadata": {},
   "outputs": [
    {
     "data": {
      "text/html": [
       "<div>\n",
       "<style scoped>\n",
       "    .dataframe tbody tr th:only-of-type {\n",
       "        vertical-align: middle;\n",
       "    }\n",
       "\n",
       "    .dataframe tbody tr th {\n",
       "        vertical-align: top;\n",
       "    }\n",
       "\n",
       "    .dataframe thead th {\n",
       "        text-align: right;\n",
       "    }\n",
       "</style>\n",
       "<table border=\"1\" class=\"dataframe\">\n",
       "  <thead>\n",
       "    <tr style=\"text-align: right;\">\n",
       "      <th></th>\n",
       "      <th>Date</th>\n",
       "    </tr>\n",
       "  </thead>\n",
       "  <tbody>\n",
       "    <tr>\n",
       "      <th>0</th>\n",
       "      <td>2023-01-01</td>\n",
       "    </tr>\n",
       "    <tr>\n",
       "      <th>1</th>\n",
       "      <td>2023-01-15</td>\n",
       "    </tr>\n",
       "    <tr>\n",
       "      <th>2</th>\n",
       "      <td>2023-01-31</td>\n",
       "    </tr>\n",
       "  </tbody>\n",
       "</table>\n",
       "</div>"
      ],
      "text/plain": [
       "        Date\n",
       "0 2023-01-01\n",
       "1 2023-01-15\n",
       "2 2023-01-31"
      ]
     },
     "execution_count": 129,
     "metadata": {},
     "output_type": "execute_result"
    }
   ],
   "source": [
    "new_df=select_dates(df)\n",
    "new_df"
   ]
  },
  {
   "cell_type": "markdown",
   "id": "fe235e4b",
   "metadata": {},
   "source": [
    "### Q13. To use the basic functions of pandas, what is the first and foremost necessary library that needs to be imported?"
   ]
  },
  {
   "cell_type": "markdown",
   "id": "8f8be31a",
   "metadata": {},
   "source": [
    "The first and foremost necessary library that needs to be imported to use the basic functions of pandas is pandas itself."
   ]
  },
  {
   "cell_type": "code",
   "execution_count": 130,
   "id": "041c5700",
   "metadata": {},
   "outputs": [],
   "source": [
    "# syntax\n",
    "import pandas as pd"
   ]
  },
  {
   "cell_type": "code",
   "execution_count": null,
   "id": "245a4dab",
   "metadata": {},
   "outputs": [],
   "source": []
  }
 ],
 "metadata": {
  "kernelspec": {
   "display_name": "Python 3 (ipykernel)",
   "language": "python",
   "name": "python3"
  },
  "language_info": {
   "codemirror_mode": {
    "name": "ipython",
    "version": 3
   },
   "file_extension": ".py",
   "mimetype": "text/x-python",
   "name": "python",
   "nbconvert_exporter": "python",
   "pygments_lexer": "ipython3",
   "version": "3.9.7"
  }
 },
 "nbformat": 4,
 "nbformat_minor": 5
}
